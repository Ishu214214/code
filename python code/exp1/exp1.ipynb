{
 "cells": [
  {
   "cell_type": "markdown",
   "id": "08c81c28",
   "metadata": {},
   "source": [
    "# python \n"
   ]
  },
  {
   "cell_type": "markdown",
   "id": "918b270f",
   "metadata": {},
   "source": [
    "# lab1"
   ]
  },
  {
   "cell_type": "code",
   "execution_count": 1,
   "id": "f6fbc399",
   "metadata": {},
   "outputs": [],
   "source": [
    "##basic"
   ]
  },
  {
   "cell_type": "code",
   "execution_count": null,
   "id": "99b30d8c",
   "metadata": {},
   "outputs": [],
   "source": []
  },
  {
   "cell_type": "code",
   "execution_count": 2,
   "id": "e8e6ee5f",
   "metadata": {},
   "outputs": [
    {
     "name": "stdout",
     "output_type": "stream",
     "text": [
      " 5 is greater than 2\n"
     ]
    }
   ],
   "source": [
    "if(5>2):\n",
    " print(\" 5 is greater than 2\")"
   ]
  },
  {
   "cell_type": "code",
   "execution_count": 4,
   "id": "47f8e716",
   "metadata": {},
   "outputs": [
    {
     "name": "stdout",
     "output_type": "stream",
     "text": [
      " yes\n",
      "1\n",
      "2\n"
     ]
    }
   ],
   "source": [
    "if(4>3):\n",
    "       print(\" yes\")\n",
    "       print(\"1\")     \n",
    "if(5>2):\n",
    " print(\"2\")"
   ]
  },
  {
   "cell_type": "code",
   "execution_count": 6,
   "id": "d41eec24",
   "metadata": {},
   "outputs": [
    {
     "name": "stdout",
     "output_type": "stream",
     "text": [
      " 5 is greater than 2\n",
      " 5 is greater than 2\n"
     ]
    }
   ],
   "source": [
    "if(5>2):\n",
    " print(\" 5 is greater than 2\")\n",
    " print(\" 5 is greater than 2\")"
   ]
  },
  {
   "cell_type": "code",
   "execution_count": 11,
   "id": "576f2aa1",
   "metadata": {},
   "outputs": [
    {
     "name": "stdout",
     "output_type": "stream",
     "text": [
      "<class 'str'>\n",
      "50\n"
     ]
    }
   ],
   "source": [
    "x=5\n",
    "y='ishu'\n",
    "print(type(y))\n",
    "print(x+45)"
   ]
  },
  {
   "cell_type": "code",
   "execution_count": 12,
   "id": "f68b2b4b",
   "metadata": {},
   "outputs": [
    {
     "name": "stdout",
     "output_type": "stream",
     "text": [
      "<class 'str'>\n",
      "shikha\n"
     ]
    }
   ],
   "source": [
    "x=4 # x is of int type\n",
    "x=\"shikha\" # now x is of string type\n",
    "print(type(x))\n",
    "y=2\n",
    "y=\"shikha\"\n",
    "print(y)"
   ]
  },
  {
   "cell_type": "code",
   "execution_count": 13,
   "id": "f18629cc",
   "metadata": {},
   "outputs": [
    {
     "name": "stdout",
     "output_type": "stream",
     "text": [
      "3\n",
      "3\n",
      "3.1\n",
      "<class 'float'>\n",
      "<class 'int'>\n",
      "(3.1+0j)\n",
      "<class 'int'>\n"
     ]
    }
   ],
   "source": [
    "x=int(3)\n",
    "y=str(\"3\")\n",
    "z=3.1\n",
    "print(x)\n",
    "print(y)\n",
    "print(z)\n",
    "print(type(z))\n",
    "print(type(x))\n",
    "print(complex(z))\n",
    "print(type(int(y)))"
   ]
  },
  {
   "cell_type": "code",
   "execution_count": 14,
   "id": "17645a3c",
   "metadata": {},
   "outputs": [
    {
     "name": "stdout",
     "output_type": "stream",
     "text": [
      "<class 'str'>\n"
     ]
    }
   ],
   "source": [
    "print(type(y))"
   ]
  },
  {
   "cell_type": "code",
   "execution_count": 15,
   "id": "4634ab28",
   "metadata": {},
   "outputs": [
    {
     "name": "stdout",
     "output_type": "stream",
     "text": [
      "<class 'type'>\n"
     ]
    }
   ],
   "source": [
    "b=type(int(y))\n",
    "print(type(b))"
   ]
  },
  {
   "cell_type": "code",
   "execution_count": 17,
   "id": "86cbe8ea",
   "metadata": {},
   "outputs": [
    {
     "name": "stdout",
     "output_type": "stream",
     "text": [
      "orange\n",
      "('orange', 'banana', 'cherry')\n",
      "banana\n",
      "cherry\n",
      "('orange', 'banana', 'cherry')\n"
     ]
    }
   ],
   "source": [
    "a=x,y,z=b=\"orange\",\"banana\",\"cherry\"\n",
    "print(x)\n",
    "print(a)\n",
    "print(y)\n",
    "print(z)\n",
    "print(b)"
   ]
  },
  {
   "cell_type": "code",
   "execution_count": 18,
   "id": "df93841e",
   "metadata": {},
   "outputs": [
    {
     "name": "stdout",
     "output_type": "stream",
     "text": [
      "apple\n",
      "banana\n",
      "cherry\n"
     ]
    }
   ],
   "source": [
    "fruits = [\"apple\", \"banana\", \"cherry\"]\n",
    "x, y, z = fruits\n",
    "print(x)\n",
    "print(y)\n",
    "print(z)"
   ]
  },
  {
   "cell_type": "code",
   "execution_count": 20,
   "id": "a35a5967",
   "metadata": {},
   "outputs": [
    {
     "name": "stdout",
     "output_type": "stream",
     "text": [
      "Python is awesome\n"
     ]
    }
   ],
   "source": [
    "x = \"awesome\"\n",
    "print(\"Python is \" + x)"
   ]
  },
  {
   "cell_type": "code",
   "execution_count": 21,
   "id": "77ad353a",
   "metadata": {},
   "outputs": [
    {
     "name": "stdout",
     "output_type": "stream",
     "text": [
      "Enter username:ishu kmumar\n",
      "Username is: ishu kmumar\n"
     ]
    }
   ],
   "source": [
    "username = input(\"Enter username:\")\n",
    "print(\"Username is: \" + username)"
   ]
  },
  {
   "cell_type": "code",
   "execution_count": 27,
   "id": "eaceff3b",
   "metadata": {},
   "outputs": [
    {
     "name": "stdout",
     "output_type": "stream",
     "text": [
      "Enter username:1+3\n",
      "Username is: 1+3\n",
      "1+3\n",
      "1+3\n"
     ]
    }
   ],
   "source": [
    "username = input(\"Enter username:\")\n",
    "print(\"Username is: \" + username)\n",
    "a=username\n",
    "print(username)\n",
    "print(a)"
   ]
  },
  {
   "cell_type": "code",
   "execution_count": 30,
   "id": "219fbfa0",
   "metadata": {},
   "outputs": [
    {
     "ename": "ValueError",
     "evalue": "invalid literal for int() with base 10: 'Enter username:'",
     "output_type": "error",
     "traceback": [
      "\u001b[1;31m---------------------------------------------------------------------------\u001b[0m",
      "\u001b[1;31mValueError\u001b[0m                                Traceback (most recent call last)",
      "Input \u001b[1;32mIn [30]\u001b[0m, in \u001b[0;36m<cell line: 1>\u001b[1;34m()\u001b[0m\n\u001b[1;32m----> 1\u001b[0m username \u001b[38;5;241m=\u001b[39m \u001b[38;5;28minput\u001b[39m(\u001b[38;5;28;43mint\u001b[39;49m\u001b[43m(\u001b[49m\u001b[38;5;124;43m\"\u001b[39;49m\u001b[38;5;124;43mEnter username:\u001b[39;49m\u001b[38;5;124;43m\"\u001b[39;49m\u001b[43m)\u001b[49m)\n\u001b[0;32m      2\u001b[0m \u001b[38;5;28mprint\u001b[39m(\u001b[38;5;124m\"\u001b[39m\u001b[38;5;124mUsername is: \u001b[39m\u001b[38;5;124m\"\u001b[39m \u001b[38;5;241m+\u001b[39m username)\n",
      "\u001b[1;31mValueError\u001b[0m: invalid literal for int() with base 10: 'Enter username:'"
     ]
    }
   ],
   "source": [
    "username = input(int(\"Enter username:\"))\n",
    "print(\"Username is: \" + username)"
   ]
  },
  {
   "cell_type": "code",
   "execution_count": 28,
   "id": "2153a871",
   "metadata": {},
   "outputs": [
    {
     "name": "stdout",
     "output_type": "stream",
     "text": [
      "1.0\n",
      "2\n",
      "(1+0j)\n",
      "<class 'float'>\n",
      "<class 'int'>\n",
      "<class 'complex'>\n"
     ]
    }
   ],
   "source": [
    "#Convert from one type to another:#\n",
    "x = 1    # int\n",
    "y = 2.8  # float\n",
    "z = 1j   # complex\n",
    "\n",
    "#convert from int to float:\n",
    "a = float(x)\n",
    "\n",
    "#convert from float to int:\n",
    "b = int(y)\n",
    "\n",
    "#convert from int to complex:\n",
    "c = complex(x)\n",
    "print(a)\n",
    "print(b)\n",
    "print(c)\n",
    "print(type(a))\n",
    "print(type(b))\n",
    "print(type(c))"
   ]
  },
  {
   "cell_type": "code",
   "execution_count": 29,
   "id": "a1417914",
   "metadata": {},
   "outputs": [
    {
     "name": "stdout",
     "output_type": "stream",
     "text": [
      "True\n",
      "False\n",
      "False\n"
     ]
    }
   ],
   "source": [
    "print(10 > 9)\n",
    "print(10 == 9)\n",
    "print(10 < 9)"
   ]
  },
  {
   "cell_type": "code",
   "execution_count": 1,
   "id": "1d134bc6",
   "metadata": {},
   "outputs": [
    {
     "name": "stdout",
     "output_type": "stream",
     "text": [
      "('apple', 'banana', 'cherry')\n"
     ]
    }
   ],
   "source": [
    "#Create a tupel:\n",
    "thislist = (\"apple\", \"banana\", \"cherry\")\n",
    "print(thislist)"
   ]
  },
  {
   "cell_type": "code",
   "execution_count": 31,
   "id": "cace65a7",
   "metadata": {},
   "outputs": [
    {
     "name": "stdout",
     "output_type": "stream",
     "text": [
      "['apple', 'banana', 'cherry']\n"
     ]
    }
   ],
   "source": [
    "#Create a List:\n",
    "thislist = [\"apple\", \"banana\", \"cherry\"]\n",
    "print(thislist)"
   ]
  },
  {
   "cell_type": "code",
   "execution_count": 33,
   "id": "c16f0729",
   "metadata": {},
   "outputs": [
    {
     "name": "stdout",
     "output_type": "stream",
     "text": [
      "{'apple', 'cherry', 'banana'}\n"
     ]
    }
   ],
   "source": [
    "thisset = {\"apple\", \"banana\", \"cherry\"}\n",
    "print(thisset)"
   ]
  },
  {
   "cell_type": "code",
   "execution_count": 34,
   "id": "ad17c400",
   "metadata": {},
   "outputs": [
    {
     "name": "stdout",
     "output_type": "stream",
     "text": [
      "{'brand': 'Ford', 'model': 'Mustang', 'year': 1964}\n"
     ]
    }
   ],
   "source": [
    "thisdict = { \"brand\": \"Ford\", \"model\": \"Mustang\",\"year\": 1964}\n",
    "print(thisdict)"
   ]
  },
  {
   "cell_type": "markdown",
   "id": "b2bf051f",
   "metadata": {},
   "source": [
    "# main exprement"
   ]
  },
  {
   "cell_type": "code",
   "execution_count": 37,
   "id": "5870c498",
   "metadata": {},
   "outputs": [
    {
     "name": "stdout",
     "output_type": "stream",
     "text": [
      "<class 'int'>\n",
      "<class 'str'>\n",
      "<class 'float'>\n"
     ]
    }
   ],
   "source": [
    "#data type\n",
    "a=5\n",
    "b='ishu'\n",
    "c=6.7\n",
    "print(type(a))\n",
    "print(type(b))\n",
    "print(type(c))"
   ]
  },
  {
   "cell_type": "code",
   "execution_count": 2,
   "id": "c7ef1cc7",
   "metadata": {},
   "outputs": [
    {
     "name": "stdout",
     "output_type": "stream",
     "text": [
      "enter x1 5\n",
      "enter x2 10\n",
      "enter y1 5\n",
      "enter y2 10\n",
      "7.0710678118654755\n"
     ]
    }
   ],
   "source": [
    "# Write a program to compute distance between two points taking input from the user\n",
    "import math\n",
    "x1=int(input('enter x1 '))\n",
    "x2=int(input('enter x2 '))\n",
    "y1=int(input('enter y1 '))\n",
    "y2=int(input('enter y2 '))\n",
    "\n",
    "sum = (( (x2 - x1)**2 +  (y2 - y1)**2 )**0.5)\n",
    "print(sum)\n",
    "\n",
    "\n",
    "\n"
   ]
  },
  {
   "cell_type": "code",
   "execution_count": 40,
   "id": "00e54eff",
   "metadata": {},
   "outputs": [
    {
     "name": "stdout",
     "output_type": "stream",
     "text": [
      "enter x1 1\n",
      "enter x2 2\n",
      "3\n"
     ]
    }
   ],
   "source": [
    "#Write a program add.py that takes 2 numbers as input from user and prints its sum.\n",
    "\n",
    "x1=int(input('enter x1 '))\n",
    "x2=int(input('enter x2 '))\n",
    "\n",
    "sum= x1+x2\n",
    "print(sum)"
   ]
  },
  {
   "cell_type": "code",
   "execution_count": null,
   "id": "626fa44d",
   "metadata": {},
   "outputs": [],
   "source": []
  }
 ],
 "metadata": {
  "kernelspec": {
   "display_name": "Python 3 (ipykernel)",
   "language": "python",
   "name": "python3"
  },
  "language_info": {
   "codemirror_mode": {
    "name": "ipython",
    "version": 3
   },
   "file_extension": ".py",
   "mimetype": "text/x-python",
   "name": "python",
   "nbconvert_exporter": "python",
   "pygments_lexer": "ipython3",
   "version": "3.9.12"
  }
 },
 "nbformat": 4,
 "nbformat_minor": 5
}
