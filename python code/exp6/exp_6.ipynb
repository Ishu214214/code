{
 "cells": [
  {
   "cell_type": "markdown",
   "id": "c6192105",
   "metadata": {},
   "source": [
    "# Topics to be covered : Scope, Modules, Inheritance\n",
    "Exercise based on above Topics:\n",
    "Demonstration through examples"
   ]
  },
  {
   "cell_type": "code",
   "execution_count": null,
   "id": "c496c769",
   "metadata": {},
   "outputs": [],
   "source": []
  },
  {
   "cell_type": "markdown",
   "id": "a243aa99",
   "metadata": {},
   "source": [
    "pythin scope (local varibal and global veriable)\n"
   ]
  },
  {
   "cell_type": "code",
   "execution_count": 1,
   "id": "ba289f6e",
   "metadata": {},
   "outputs": [
    {
     "name": "stdout",
     "output_type": "stream",
     "text": [
      "200\n",
      "200\n"
     ]
    }
   ],
   "source": [
    "x= 300\n",
    "def fun():\n",
    "    global x\n",
    "    x=200\n",
    "    print(x)\n",
    "    \n",
    "fun()    \n",
    "print(x)"
   ]
  },
  {
   "cell_type": "markdown",
   "id": "ee69ad89",
   "metadata": {},
   "source": [
    "pythin modul ( code of libary)"
   ]
  },
  {
   "cell_type": "code",
   "execution_count": 15,
   "id": "209d6e31",
   "metadata": {},
   "outputs": [
    {
     "name": "stdout",
     "output_type": "stream",
     "text": [
      "hello kumar ishu\n",
      "CS\n",
      "Welcome kumar ishu to the class of CS\n"
     ]
    }
   ],
   "source": [
    "class Persion:\n",
    "    def __init__(self,fname,lname):\n",
    "        self.firstname= fname\n",
    "        self.lastname = lname\n",
    "        \n",
    "    def printname(self)    :\n",
    "        print(\"hello\" + \" \"+self.firstname +\" \" + self.lastname)\n",
    "        \n",
    "class Student(Persion):\n",
    "    def __init__(self,fname,lname):\n",
    "       Persion.__init__(self,lname,fname)\n",
    "       self.branch =\"CS\"\n",
    "        \n",
    "    def welcome(self):\n",
    "        print(\"Welcome\", self.firstname+ \" \" + self.lastname, \"to the class of\"+ \" \" + self.branch)    \n",
    "\n",
    "x=Student(\"ishu\",\"kumar\")\n",
    "x.printname()\n",
    "print(x.branch)\n",
    "x.welcome()\n",
    "    \n",
    "    "
   ]
  },
  {
   "cell_type": "code",
   "execution_count": null,
   "id": "0b9217b0",
   "metadata": {},
   "outputs": [],
   "source": []
  }
 ],
 "metadata": {
  "kernelspec": {
   "display_name": "Python 3 (ipykernel)",
   "language": "python",
   "name": "python3"
  },
  "language_info": {
   "codemirror_mode": {
    "name": "ipython",
    "version": 3
   },
   "file_extension": ".py",
   "mimetype": "text/x-python",
   "name": "python",
   "nbconvert_exporter": "python",
   "pygments_lexer": "ipython3",
   "version": "3.9.12"
  }
 },
 "nbformat": 4,
 "nbformat_minor": 5
}
