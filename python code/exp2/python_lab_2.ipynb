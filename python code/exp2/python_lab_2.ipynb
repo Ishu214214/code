{
 "cells": [
  {
   "cell_type": "markdown",
   "id": "1eb53b02",
   "metadata": {},
   "source": [
    "# max of 3 no\n",
    "\n",
    "compound intrest and simple intrest\n",
    "\n",
    "even no\n",
    "\n",
    "using loop print fraction no 1/2 to 1/10 range(1,11)\n",
    "\n",
    "using loop over a sequence\n",
    "\n",
    "\n",
    "print no using loop on decring ouder with user input\n",
    "\n",
    "print factorial no with while loop\n",
    "\n",
    "fabonice series with while loop "
   ]
  },
  {
   "cell_type": "markdown",
   "id": "af32de56",
   "metadata": {},
   "source": [
    "# comparision"
   ]
  },
  {
   "cell_type": "code",
   "execution_count": 1,
   "id": "8e8d69b8",
   "metadata": {},
   "outputs": [
    {
     "name": "stdout",
     "output_type": "stream",
     "text": [
      "True\n",
      "False\n",
      "True\n",
      "True\n"
     ]
    }
   ],
   "source": [
    "#program 1\n",
    "\n",
    "x = [\"apple\", \"banana\"]\n",
    "y = [\"apple\", \"banana\"]\n",
    "z = x\n",
    "print(x is z)\n",
    "# returns True because z is the same object as x\n",
    "print(x is y)\n",
    "# returns False because x is not the same object as y, even if they have the same content\n",
    "print(x == y)\n",
    "# to demonstrate the difference between \"is\" and \"==\": this comparison returns True because x is equal to y \n",
    "print(z is x)"
   ]
  },
  {
   "cell_type": "code",
   "execution_count": 2,
   "id": "5bf87c9d",
   "metadata": {},
   "outputs": [
    {
     "name": "stdout",
     "output_type": "stream",
     "text": [
      "False\n",
      "True\n",
      "False\n"
     ]
    }
   ],
   "source": [
    "x = [\"apple\", \"banana\"]\n",
    "y = [\"apple\", \"banana\"]\n",
    "z = x\n",
    "print(x is not z)\n",
    "# returns False because z is the same object as x\n",
    "print(x is not y)\n",
    "# returns True because x is not the same object as y, even if they have the same content\n",
    "print(x != y)\n",
    "# to demonstrate the difference betweeen \"is not\" and \"!=\": this comparison returns False because x is equal to y"
   ]
  },
  {
   "cell_type": "code",
   "execution_count": null,
   "id": "c9cd1961",
   "metadata": {},
   "outputs": [],
   "source": []
  },
  {
   "cell_type": "markdown",
   "id": "bad697c6",
   "metadata": {},
   "source": [
    "# membership operator"
   ]
  },
  {
   "cell_type": "code",
   "execution_count": 11,
   "id": "f3ec5bed",
   "metadata": {},
   "outputs": [],
   "source": [
    "# x = [\"apple\", \"banana\"]\n",
    "# print(\"pineapple\" not in x)\n",
    "# # returns True because a sequence with the value \"pineapple\" is not in the list \n",
    "# print(\"banana\" not in x)\n",
    "# print(\"banana\"  in x)"
   ]
  },
  {
   "cell_type": "code",
   "execution_count": 9,
   "id": "c1cceda2",
   "metadata": {},
   "outputs": [
    {
     "name": "stdout",
     "output_type": "stream",
     "text": [
      "['pineapple', 'banana']\n",
      "False\n",
      "False\n",
      "True\n"
     ]
    }
   ],
   "source": [
    "x = [\"apple\", \"banana\"]\n",
    "x[0]=\"pineapple\"\n",
    "print(x)\n",
    "print(\"pineapple\" not in x)\n",
    "# returns True because a sequence with the value \"pineapple\" is not in the list \n",
    "print(\"banana\" not in x)\n",
    "print(\"banana\"  in x)"
   ]
  },
  {
   "cell_type": "code",
   "execution_count": null,
   "id": "bc06558a",
   "metadata": {},
   "outputs": [],
   "source": []
  },
  {
   "cell_type": "markdown",
   "id": "db891471",
   "metadata": {},
   "source": [
    "\n",
    "# else if"
   ]
  },
  {
   "cell_type": "code",
   "execution_count": 10,
   "id": "38f77b56",
   "metadata": {},
   "outputs": [
    {
     "name": "stdout",
     "output_type": "stream",
     "text": [
      "b is grater\n"
     ]
    }
   ],
   "source": [
    "a=33\n",
    "b=34\n",
    "if a>b :\n",
    "    print(\"a is grater\")\n",
    "elif(a==b):\n",
    "    print(\"both are equal\")\n",
    "else:\n",
    "    print(\"b is grater\")\n",
    "    "
   ]
  },
  {
   "cell_type": "code",
   "execution_count": 12,
   "id": "40ee2ee1",
   "metadata": {},
   "outputs": [
    {
     "name": "stdout",
     "output_type": "stream",
     "text": [
      "a and b are equal\n"
     ]
    }
   ],
   "source": [
    "a = 33\n",
    "b = 33\n",
    "if b > a:\n",
    " print(\"b is greater than a\")\n",
    "elif a == b:\n",
    "      print(\"a and b are equal\")\n"
   ]
  },
  {
   "cell_type": "markdown",
   "id": "21b315e4",
   "metadata": {},
   "source": [
    "# loop"
   ]
  },
  {
   "cell_type": "code",
   "execution_count": 15,
   "id": "6dd896ee",
   "metadata": {},
   "outputs": [
    {
     "name": "stdout",
     "output_type": "stream",
     "text": [
      "enter the no4\n",
      "5\n",
      "6\n"
     ]
    }
   ],
   "source": [
    "a=int(input('enter the no'))\n",
    "\n",
    "while a<6:\n",
    "    print(a+1)\n",
    "    a+=1\n",
    "    \n",
    "\n"
   ]
  },
  {
   "cell_type": "code",
   "execution_count": 16,
   "id": "70b2b252",
   "metadata": {},
   "outputs": [
    {
     "name": "stdout",
     "output_type": "stream",
     "text": [
      "apple\n",
      "banana\n",
      "pineapple\n"
     ]
    }
   ],
   "source": [
    "friut =['apple', 'banana' ,'pineapple']\n",
    "for x in friut :\n",
    "    print(x)"
   ]
  },
  {
   "cell_type": "code",
   "execution_count": 17,
   "id": "8700657c",
   "metadata": {},
   "outputs": [
    {
     "name": "stdout",
     "output_type": "stream",
     "text": [
      "b\n",
      "a\n",
      "n\n",
      "a\n",
      "n\n",
      "a\n"
     ]
    }
   ],
   "source": [
    "fruit = \"banana\"\n",
    "for x in fruit:\n",
    "    print(x)"
   ]
  },
  {
   "cell_type": "code",
   "execution_count": 18,
   "id": "20cd5e1c",
   "metadata": {},
   "outputs": [
    {
     "name": "stdout",
     "output_type": "stream",
     "text": [
      "apple\n",
      "banana\n"
     ]
    }
   ],
   "source": [
    "friut =['apple', 'banana' ,'pineapple']\n",
    "for x in friut :\n",
    "    print(x)\n",
    "    if x == 'banana':\n",
    "        break"
   ]
  },
  {
   "cell_type": "code",
   "execution_count": 21,
   "id": "44c2f622",
   "metadata": {},
   "outputs": [],
   "source": [
    "# for x in (1,5):\n",
    "#     print(x)"
   ]
  },
  {
   "cell_type": "code",
   "execution_count": 20,
   "id": "ed604bd1",
   "metadata": {},
   "outputs": [
    {
     "name": "stdout",
     "output_type": "stream",
     "text": [
      "1\n",
      "2\n",
      "3\n",
      "4\n"
     ]
    }
   ],
   "source": [
    "for x in range(1,5):\n",
    "    print(x)"
   ]
  },
  {
   "cell_type": "markdown",
   "id": "35d15230",
   "metadata": {},
   "source": [
    "# lab manual"
   ]
  },
  {
   "cell_type": "code",
   "execution_count": 23,
   "id": "f9b7e6c5",
   "metadata": {},
   "outputs": [
    {
     "name": "stdout",
     "output_type": "stream",
     "text": [
      "enter the no3\n",
      "enter the no4\n",
      "enter the no6\n",
      "c is grater\n"
     ]
    }
   ],
   "source": [
    "#max of 3 no\n",
    "\n",
    "a=int(input('enter the no'))\n",
    "b=int(input('enter the no'))\n",
    "c=int(input('enter the no'))\n",
    "\n",
    "if (a>b and a>c):\n",
    "    print(\"a is grater\")\n",
    "elif(b>a and b >c):\n",
    "    print('b is grater')\n",
    "else:\n",
    "    print('c is grater')\n"
   ]
  },
  {
   "cell_type": "code",
   "execution_count": 29,
   "id": "30dd385f",
   "metadata": {},
   "outputs": [
    {
     "name": "stdout",
     "output_type": "stream",
     "text": [
      "enter the no principle1\n",
      "enter the no time2\n",
      "enter the no rate3\n",
      "0.06\n"
     ]
    }
   ],
   "source": [
    "#simple and compound intrest\n",
    "\n",
    "a=float(input('enter the no principle'))\n",
    "b=float(input('enter the no time'))\n",
    "c=float(input('enter the no rate'))\n",
    "\n",
    "simple= (a*b*c) /100\n",
    "print(simple)\n"
   ]
  },
  {
   "cell_type": "code",
   "execution_count": 31,
   "id": "e2e1e355",
   "metadata": {},
   "outputs": [
    {
     "name": "stdout",
     "output_type": "stream",
     "text": [
      "enter the no principle1\n",
      "enter the no time2\n",
      "enter the no rate4\n",
      "1.0816000000000001\n"
     ]
    }
   ],
   "source": [
    "principle=float(input('enter the no principle'))\n",
    "time=float(input('enter the no time'))\n",
    "rate=float(input('enter the no rate'))\n",
    "\n",
    "compound=principle*((1+rate/100)**time)\n",
    "print(compound)\n"
   ]
  },
  {
   "cell_type": "code",
   "execution_count": 32,
   "id": "2477bd32",
   "metadata": {},
   "outputs": [
    {
     "name": "stdout",
     "output_type": "stream",
     "text": [
      "enter the no2\n",
      "even\n"
     ]
    }
   ],
   "source": [
    "# cheak even or odd\n",
    "a=int(input('enter the no'))\n",
    "\n",
    "if (a%2 == 0):\n",
    "    print('even')\n",
    "else:\n",
    "    print(\"odd\")\n"
   ]
  },
  {
   "cell_type": "code",
   "execution_count": 35,
   "id": "452b17e7",
   "metadata": {},
   "outputs": [
    {
     "name": "stdout",
     "output_type": "stream",
     "text": [
      "0.5\n",
      "0.3333333333333333\n",
      "0.25\n",
      "0.2\n",
      "0.16666666666666666\n",
      "0.14285714285714285\n",
      "0.125\n",
      "0.1111111111111111\n"
     ]
    }
   ],
   "source": [
    "#fraction no using loop\n",
    "#Using a for loop, write a program that prints out the decimal equivalents of ½, 1/3, 1/4… 1/10\n",
    "\n",
    "\n",
    "for i in range(2,10):\n",
    "    print(1/i)"
   ]
  },
  {
   "cell_type": "code",
   "execution_count": 39,
   "id": "c1f08f60",
   "metadata": {},
   "outputs": [
    {
     "name": "stdout",
     "output_type": "stream",
     "text": [
      "##########list#########\n",
      "apple\n",
      "banana\n",
      "pineapple\n",
      "##########string#########\n",
      "b\n",
      "a\n",
      "n\n",
      "a\n",
      "n\n",
      "a\n",
      "##########string#########\n",
      "a\n",
      "b\n",
      "##########string#########\n",
      "15\n"
     ]
    }
   ],
   "source": [
    "#write a program over a sequance\n",
    "\n",
    "print(\"##########list#########\")\n",
    "friut =['apple', 'banana' ,'pineapple']\n",
    "for x in friut :\n",
    "    print(x)\n",
    "    \n",
    "print(\"##########string#########\")    \n",
    "    \n",
    "fruit = \"banana\"\n",
    "for x in fruit:\n",
    "    print(x)\n",
    "    \n",
    "    \n",
    "print(\"##########string#########\")    \n",
    "    \n",
    "fruit = {1:'a',2:'b'}\n",
    "for x in fruit:\n",
    "    print(fruit[x]) \n",
    "    \n",
    "print(\"##########string#########\")    \n",
    "    \n",
    "num=[1,2,3,4,5]   \n",
    "sum=0\n",
    "for i in num:\n",
    "    sum+=i\n",
    "print(sum)    "
   ]
  },
  {
   "cell_type": "code",
   "execution_count": 41,
   "id": "88137055",
   "metadata": {},
   "outputs": [
    {
     "name": "stdout",
     "output_type": "stream",
     "text": [
      "enter the no5\n",
      "5\n",
      "4\n",
      "3\n",
      "2\n",
      "1\n",
      "0\n"
     ]
    }
   ],
   "source": [
    "#while loop print in decrement ouder\n",
    "a=int(input('enter the no'))\n",
    "\n",
    "while a>=0:\n",
    "    print(a)\n",
    "    a-=1\n",
    "    \n",
    "\n"
   ]
  },
  {
   "cell_type": "code",
   "execution_count": null,
   "id": "42b17bbf",
   "metadata": {},
   "outputs": [],
   "source": []
  },
  {
   "cell_type": "code",
   "execution_count": 53,
   "id": "d6f599ee",
   "metadata": {},
   "outputs": [
    {
     "name": "stdout",
     "output_type": "stream",
     "text": [
      "enter the no1\n",
      "1\n"
     ]
    }
   ],
   "source": [
    "# print factorial no with while loop\n",
    "\n",
    "a=int(input('enter the no'))\n",
    "b=1\n",
    "while(a>0):\n",
    "    if(a==1):\n",
    "        \n",
    "        \n",
    "        break\n",
    "    else:\n",
    "       b= a*b\n",
    "    \n",
    "       a=a-1\n",
    "        \n",
    "    \n",
    "\n",
    "print(b)"
   ]
  },
  {
   "cell_type": "code",
   "execution_count": 2,
   "id": "d572c1e4",
   "metadata": {},
   "outputs": [
    {
     "name": "stdout",
     "output_type": "stream",
     "text": [
      "Enter the terms to be printed1\n"
     ]
    }
   ],
   "source": [
    "#fabonic series\n",
    "\n",
    "#fibonacci series\n",
    "num1=0\n",
    "num2=1\n",
    "terms=int(input(\"Enter the terms to be printed\"))\n",
    "if(terms>=2):\n",
    " print(num1)\n",
    " print(num2)\n",
    " while(terms-2):\n",
    "   sum=num1+num2\n",
    "   print(sum)\n",
    "   num1=num2\n",
    "   num2=sum\n",
    "   terms=terms-1\n",
    " else:\n",
    "   pass\n"
   ]
  },
  {
   "cell_type": "code",
   "execution_count": null,
   "id": "4a46dcbf",
   "metadata": {},
   "outputs": [],
   "source": []
  }
 ],
 "metadata": {
  "kernelspec": {
   "display_name": "Python 3 (ipykernel)",
   "language": "python",
   "name": "python3"
  },
  "language_info": {
   "codemirror_mode": {
    "name": "ipython",
    "version": 3
   },
   "file_extension": ".py",
   "mimetype": "text/x-python",
   "name": "python",
   "nbconvert_exporter": "python",
   "pygments_lexer": "ipython3",
   "version": "3.9.12"
  }
 },
 "nbformat": 4,
 "nbformat_minor": 5
}
