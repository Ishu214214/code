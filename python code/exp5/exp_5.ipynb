{
 "cells": [
  {
   "cell_type": "markdown",
   "id": "5504e65c",
   "metadata": {},
   "source": [
    "# Topics to be covered : Functions, Classes, Objects\n",
    "Exercise based on above Topics:\n",
    "1. Write a Python function to find the Max of three numbers.\n",
    "2. Write a Python program to reverse a string.\n",
    "3. Write a Python function to calculate the factorial of a number (a nonnegative integer).The function accepts the number as an argument.\n",
    "4. Write a Python class to reverse a string word by word.\n",
    "5. Write a Python class named Rectangle constructed by a leng"
   ]
  },
  {
   "cell_type": "code",
   "execution_count": 1,
   "id": "ae2271d4",
   "metadata": {},
   "outputs": [
    {
     "name": "stdout",
     "output_type": "stream",
     "text": [
      "ishu kumar\n",
      "ioshu kumar\n"
     ]
    }
   ],
   "source": [
    "def m_function(fname,lname=\"kumar\"):\n",
    "    print(fname + \" \" + lname)\n",
    "    \n",
    "m_function(\"ishu\")    \n",
    "m_function(\"ioshu\",\"kumar\")"
   ]
  },
  {
   "cell_type": "code",
   "execution_count": 4,
   "id": "0ddba45f",
   "metadata": {},
   "outputs": [
    {
     "name": "stdout",
     "output_type": "stream",
     "text": [
      "22 22\n"
     ]
    }
   ],
   "source": [
    "def fun(name,age=22):\n",
    "    print(name  , age)\n",
    "    \n",
    "fun(22)    "
   ]
  },
  {
   "cell_type": "code",
   "execution_count": 11,
   "id": "bb93c10e",
   "metadata": {},
   "outputs": [
    {
     "name": "stdout",
     "output_type": "stream",
     "text": [
      "('Emil',)\n"
     ]
    }
   ],
   "source": [
    "#Example\n",
    "#If the number of arguments is unknown, add a * before the parameter name:\n",
    "\n",
    "def my_function(*kids):\n",
    "  print(kids)\n",
    "\n",
    "my_function(\"Emil\")"
   ]
  },
  {
   "cell_type": "code",
   "execution_count": 12,
   "id": "6efa1389",
   "metadata": {},
   "outputs": [
    {
     "name": "stdout",
     "output_type": "stream",
     "text": [
      "{'a': 'hi'}\n",
      "{'a': 'ish', 'b': 22, 'c': 'e'}\n"
     ]
    }
   ],
   "source": [
    "def food(**a):\n",
    "    print(a)\n",
    "food(a='hi')    \n",
    "food(a=\"ish\", b=22,c=\"e\")"
   ]
  },
  {
   "cell_type": "code",
   "execution_count": null,
   "id": "daba8d3b",
   "metadata": {},
   "outputs": [],
   "source": []
  },
  {
   "cell_type": "code",
   "execution_count": null,
   "id": "ee0df4ac",
   "metadata": {},
   "outputs": [],
   "source": []
  },
  {
   "cell_type": "markdown",
   "id": "da07c34b",
   "metadata": {},
   "source": [
    "# WAP in python display For loan I ake amount with intrest.\n",
    "amount=5000\n",
    "interest 100\n"
   ]
  },
  {
   "cell_type": "code",
   "execution_count": 1,
   "id": "86e75281",
   "metadata": {},
   "outputs": [],
   "source": [
    "#WAP in python accept principal, rate and time from user. find interest and display it. using function with return"
   ]
  },
  {
   "cell_type": "code",
   "execution_count": 3,
   "id": "8c88d658",
   "metadata": {},
   "outputs": [
    {
     "name": "stdout",
     "output_type": "stream",
     "text": [
      "125\n"
     ]
    }
   ],
   "source": [
    "def intrest(rate,time,principle):\n",
    "    \n",
    "    c=principle*rate*time\n",
    "    return c\n",
    "\n",
    "print(intrest(5,5,5))\n",
    "    "
   ]
  },
  {
   "cell_type": "code",
   "execution_count": 4,
   "id": "6a288df1",
   "metadata": {},
   "outputs": [
    {
     "name": "stdout",
     "output_type": "stream",
     "text": [
      "congrulation ('ishu', 'kumar', 'hello', 'world')\n"
     ]
    }
   ],
   "source": [
    "#wap accept student name those are getting 99% in their mid sem. congratulation message.\n",
    "\n",
    "def cong(*con):\n",
    "    print(\"congrulation you get 99% in exam\" ,con)\n",
    "    \n",
    "cong(\"ishu\",\"kumar\",\"hello\",\"world\")    \n",
    "    "
   ]
  },
  {
   "cell_type": "code",
   "execution_count": 5,
   "id": "800eb6b9",
   "metadata": {},
   "outputs": [
    {
     "name": "stdout",
     "output_type": "stream",
     "text": [
      "{'a': 'Apple'}\n",
      "{'fruits': 'Orange', 'Vagitables': 'Carrot'}\n"
     ]
    }
   ],
   "source": [
    "def food(**kwargs):  \n",
    "    print(kwargs)  \n",
    "food(a=\"Apple\")  \n",
    "food(fruits=\"Orange\", Vagitables=\"Carrot\")"
   ]
  },
  {
   "cell_type": "code",
   "execution_count": 7,
   "id": "24fcd428",
   "metadata": {},
   "outputs": [
    {
     "name": "stdout",
     "output_type": "stream",
     "text": [
      "hello !! I am going to print a message.\n"
     ]
    }
   ],
   "source": [
    "def print_message():    \n",
    "    message = \"hello !! I am going to print a message.\" # the variable message is local to the function itself    \n",
    "    print(message)  \n",
    "\n",
    "print_message() \n",
    "   \n",
    "#print(message) # this will cause an error since a local variable cannot be accessible here."
   ]
  },
  {
   "cell_type": "code",
   "execution_count": 8,
   "id": "0364ca5c",
   "metadata": {},
   "outputs": [
    {
     "name": "stdout",
     "output_type": "stream",
     "text": [
      "mammal\n",
      "I'm a mammal\n",
      "I'm a dog\n"
     ]
    }
   ],
   "source": [
    "class Dog:\n",
    "     \n",
    "    \n",
    "    # attribute\n",
    "    attr1 = \"mammal\"\n",
    "    attr2 = \"dog\"\n",
    " \n",
    "    # A sample method \n",
    "    def fun(self):\n",
    "        print(\"I'm a\", self.attr1)\n",
    "        print(\"I'm a\", self.attr2)\n",
    " \n",
    "\n",
    "# Object instantiation\n",
    "Rodger = Dog()\n",
    " \n",
    "# Accessing class attributes\n",
    "# and method through objects\n",
    "print(Rodger.attr1)\n",
    "Rodger.fun()"
   ]
  },
  {
   "cell_type": "code",
   "execution_count": 13,
   "id": "2676eff2",
   "metadata": {},
   "outputs": [
    {
     "name": "stdout",
     "output_type": "stream",
     "text": [
      "60\n"
     ]
    }
   ],
   "source": [
    "sum=0\n",
    "def cal(*a):\n",
    "    sum=0\n",
    "    for i in a:\n",
    "        sum=sum+i\n",
    "        \n",
    "    print(sum)   \n",
    "\n",
    "    \n",
    "cal(10,20,30)    \n"
   ]
  },
  {
   "cell_type": "markdown",
   "id": "2bf3801f",
   "metadata": {},
   "source": [
    "# 1.\tWrite a Python function to find the Max of three numbers.**"
   ]
  },
  {
   "cell_type": "code",
   "execution_count": null,
   "id": "9b7e7c7b",
   "metadata": {},
   "outputs": [],
   "source": [
    "def maximum(a, b, c): \n",
    "   list = [a, b, c] \n",
    "   return max(list) \n",
    "# Driven code  \n",
    "x = int(input(\"Enter First number\"))\n",
    "y = int(input(\"Enter Second number\"))\n",
    "z = int(input(\"Enter Third number\"))\n",
    "print(\"Maximum Number is ::>\",maximum(x, y, z)) "
   ]
  },
  {
   "cell_type": "markdown",
   "id": "4db218ad",
   "metadata": {},
   "source": [
    "# 2.\tWrite a Python program to reverse a string.**"
   ]
  },
  {
   "cell_type": "code",
   "execution_count": 23,
   "id": "1756f64d",
   "metadata": {},
   "outputs": [
    {
     "name": "stdout",
     "output_type": "stream",
     "text": [
      "uhsi\n"
     ]
    }
   ],
   "source": [
    "def rev(string):\n",
    "    string=string[::-1]\n",
    "    return string\n",
    "\n",
    "s='ishu'\n",
    "print(rev(s))"
   ]
  },
  {
   "cell_type": "markdown",
   "id": "a9b2875e",
   "metadata": {},
   "source": [
    "# Write a Python function to calculate the factorial of a number (a nonnegative integer).The function accepts the number as an argument."
   ]
  },
  {
   "cell_type": "code",
   "execution_count": 24,
   "id": "bebfb36e",
   "metadata": {},
   "outputs": [
    {
     "name": "stdout",
     "output_type": "stream",
     "text": [
      "enter na5\n",
      "120\n"
     ]
    }
   ],
   "source": [
    "def fac(n):\n",
    "    if n==0:\n",
    "        return 1\n",
    "    else:\n",
    "        return n* (fac(n-1))\n",
    "\n",
    "n=int(input(\"enter na\"))    \n",
    "print(fac(n))"
   ]
  },
  {
   "cell_type": "code",
   "execution_count": 29,
   "id": "a2d4f7f0",
   "metadata": {},
   "outputs": [
    {
     "name": "stdout",
     "output_type": "stream",
     "text": [
      "5\n",
      "0\n",
      "1\n",
      "1\n",
      "2\n",
      "3\n"
     ]
    }
   ],
   "source": [
    "#fabonic\n",
    "\n",
    "def fab(n):\n",
    "    a=0\n",
    "    \n",
    "    b=1\n",
    "    for i in range(0,n):\n",
    "        temp=a\n",
    "        a=b\n",
    "        b=temp+b\n",
    "    return a\n",
    "\n",
    "n=int(input())\n",
    "for i in range(0,n):\n",
    "    print(fab(i))"
   ]
  },
  {
   "cell_type": "code",
   "execution_count": 32,
   "id": "676bc73b",
   "metadata": {},
   "outputs": [
    {
     "name": "stdout",
     "output_type": "stream",
     "text": [
      "mammul\n",
      "mammul\n",
      "colour\n"
     ]
    }
   ],
   "source": [
    "class Dog:\n",
    "    attr = \"mammul\"\n",
    "    attr1=\"colour\"\n",
    "    \n",
    "    def fun(self):\n",
    "        print(self.attr)\n",
    "        print(self.attr1)\n",
    "        \n",
    "I=Dog()        \n",
    "\n",
    "print(I.attr)\n",
    "I.fun()"
   ]
  },
  {
   "cell_type": "code",
   "execution_count": 35,
   "id": "02edbed7",
   "metadata": {},
   "outputs": [
    {
     "name": "stdout",
     "output_type": "stream",
     "text": [
      "hellojohn 36\n"
     ]
    }
   ],
   "source": [
    "class Person:\n",
    "    def __init__(self,name,age):\n",
    "        self.name=name\n",
    "        self.age=age\n",
    "    def myfunc(self):\n",
    "        print(\"hello\" + self.name , self.age)\n",
    "    \n",
    "p1=Person(\"john\" ,36)        \n",
    "p1.myfunc()\n",
    "        "
   ]
  },
  {
   "cell_type": "code",
   "execution_count": 36,
   "id": "5c683964",
   "metadata": {},
   "outputs": [
    {
     "name": "stdout",
     "output_type": "stream",
     "text": [
      ".py hello\n"
     ]
    }
   ],
   "source": []
  },
  {
   "cell_type": "markdown",
   "id": "c2a7ce74",
   "metadata": {},
   "source": [
    "# **4.\tWrite a Python class to reverse a string word by word.**\n"
   ]
  },
  {
   "cell_type": "code",
   "execution_count": null,
   "id": "40ab94a1",
   "metadata": {},
   "outputs": [],
   "source": []
  },
  {
   "cell_type": "code",
   "execution_count": 41,
   "id": "c6e59385",
   "metadata": {},
   "outputs": [
    {
     "name": "stdout",
     "output_type": "stream",
     "text": [
      "lashun the loda\n"
     ]
    }
   ],
   "source": [
    "class Pu:\n",
    "    def rev(self,s):\n",
    "        return ' '.join(reversed(s.split()))\n",
    "    \n",
    "a=Pu()    \n",
    "print(a.rev('loda the lashun'))    "
   ]
  },
  {
   "cell_type": "code",
   "execution_count": null,
   "id": "ac4d146f",
   "metadata": {},
   "outputs": [],
   "source": []
  },
  {
   "cell_type": "markdown",
   "id": "77a0df70",
   "metadata": {},
   "source": [
    "**5.\tWrite a Python class named Rectangle constructed by a length and width and a method which will compute the area of a rectangle**# "
   ]
  },
  {
   "cell_type": "code",
   "execution_count": 48,
   "id": "3f184b07",
   "metadata": {},
   "outputs": [
    {
     "name": "stdout",
     "output_type": "stream",
     "text": [
      "25\n"
     ]
    }
   ],
   "source": [
    "class rectangle:\n",
    "    def __init__(self,length,hight):\n",
    "        self.length=length\n",
    "        self.hight = hight\n",
    "    def rec(self):\n",
    "        return (self.length * self.hight)\n",
    "        \n",
    "a=rectangle(5,5)        \n",
    "print(a.rec())"
   ]
  },
  {
   "cell_type": "code",
   "execution_count": null,
   "id": "1f1ff832",
   "metadata": {},
   "outputs": [],
   "source": []
  }
 ],
 "metadata": {
  "kernelspec": {
   "display_name": "Python 3 (ipykernel)",
   "language": "python",
   "name": "python3"
  },
  "language_info": {
   "codemirror_mode": {
    "name": "ipython",
    "version": 3
   },
   "file_extension": ".py",
   "mimetype": "text/x-python",
   "name": "python",
   "nbconvert_exporter": "python",
   "pygments_lexer": "ipython3",
   "version": "3.9.12"
  }
 },
 "nbformat": 4,
 "nbformat_minor": 5
}
