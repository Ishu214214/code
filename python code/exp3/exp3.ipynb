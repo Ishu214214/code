{
 "cells": [
  {
   "cell_type": "markdown",
   "id": "af4401a3",
   "metadata": {},
   "source": [
    "# exp3\n"
   ]
  },
  {
   "cell_type": "code",
   "execution_count": 4,
   "id": "b471711f",
   "metadata": {},
   "outputs": [
    {
     "name": "stdout",
     "output_type": "stream",
     "text": [
      "4\n"
     ]
    }
   ],
   "source": [
    "this=('sd','e','e','ss')\n",
    "print(len(this))"
   ]
  },
  {
   "cell_type": "code",
   "execution_count": 5,
   "id": "228e5d2e",
   "metadata": {},
   "outputs": [
    {
     "name": "stdout",
     "output_type": "stream",
     "text": [
      "e\n"
     ]
    }
   ],
   "source": [
    "print(this[1])"
   ]
  },
  {
   "cell_type": "code",
   "execution_count": 7,
   "id": "9e103682",
   "metadata": {},
   "outputs": [
    {
     "name": "stdout",
     "output_type": "stream",
     "text": [
      "('apple', 'kiwi', 'cherry')\n"
     ]
    }
   ],
   "source": [
    "x = (\"apple\", \"banana\", \"cherry\")\n",
    "y = list(x)\n",
    "y[1] = \"kiwi\"\n",
    "x = tuple(y)\n",
    "print(x)"
   ]
  },
  {
   "cell_type": "code",
   "execution_count": 9,
   "id": "f9265568",
   "metadata": {},
   "outputs": [
    {
     "name": "stdout",
     "output_type": "stream",
     "text": [
      "['apple', 'kiwi', 'cherry']\n"
     ]
    }
   ],
   "source": [
    "x = (\"apple\", \"banana\", \"cherry\")\n",
    "y=list(x)\n",
    "y[1] = \"kiwi\"\n",
    "print(y)"
   ]
  },
  {
   "cell_type": "code",
   "execution_count": 10,
   "id": "893cd47a",
   "metadata": {},
   "outputs": [
    {
     "name": "stdout",
     "output_type": "stream",
     "text": [
      "('apple', 'kiwi', 'cherry')\n"
     ]
    }
   ],
   "source": [
    "x=tuple(y)\n",
    "print(x)"
   ]
  },
  {
   "cell_type": "code",
   "execution_count": 11,
   "id": "0a692518",
   "metadata": {},
   "outputs": [
    {
     "name": "stdout",
     "output_type": "stream",
     "text": [
      "{'cherry', 'apple', 'banana'}\n"
     ]
    }
   ],
   "source": [
    "thisset = set((\"apple\", \"banana\", \"cherry\")) # note the double round-brackets\n",
    "print(thisset)"
   ]
  },
  {
   "cell_type": "code",
   "execution_count": 12,
   "id": "60c7bb39",
   "metadata": {},
   "outputs": [
    {
     "name": "stdout",
     "output_type": "stream",
     "text": [
      "{'a'}\n"
     ]
    }
   ],
   "source": [
    "a=set('a')\n",
    "print(a)"
   ]
  },
  {
   "cell_type": "code",
   "execution_count": 13,
   "id": "74d3a48a",
   "metadata": {},
   "outputs": [],
   "source": [
    "a.add('h')"
   ]
  },
  {
   "cell_type": "code",
   "execution_count": 14,
   "id": "29b6f5e2",
   "metadata": {},
   "outputs": [
    {
     "data": {
      "text/plain": [
       "{'a', 'h'}"
      ]
     },
     "execution_count": 14,
     "metadata": {},
     "output_type": "execute_result"
    }
   ],
   "source": [
    "a"
   ]
  },
  {
   "cell_type": "code",
   "execution_count": 30,
   "id": "41b42453",
   "metadata": {},
   "outputs": [
    {
     "name": "stdout",
     "output_type": "stream",
     "text": [
      "enter the no153\n",
      "153\n"
     ]
    }
   ],
   "source": [
    "sum=0\n",
    "num=int(input('enter the no'))\n",
    "temp=num\n",
    "ouder=len(str(num))\n",
    "\n",
    "while(temp>0):\n",
    "    r=temp%10\n",
    "    sum=sum + r**ouder\n",
    "    temp=temp//10\n",
    "    \n",
    "if (num==sum):\n",
    "    \n",
    "    print(sum)\n",
    "else:\n",
    "    print('not a armstrong')\n",
    "    print(sum)"
   ]
  },
  {
   "cell_type": "code",
   "execution_count": 32,
   "id": "502092af",
   "metadata": {},
   "outputs": [
    {
     "name": "stdout",
     "output_type": "stream",
     "text": [
      "enter the no101\n",
      "101\n"
     ]
    }
   ],
   "source": [
    "sum=0\n",
    "num=int(input('enter the no'))\n",
    "temp=num\n",
    "ouder=len(str(num))\n",
    "\n",
    "while(temp>0):\n",
    "    r=temp%10\n",
    "    sum=sum*10 + r\n",
    "    temp=temp//10\n",
    "    \n",
    "if (num==sum):\n",
    "    \n",
    "    print(sum)\n",
    "else:\n",
    "    print('not a paladrom')\n",
    "    print(sum)"
   ]
  },
  {
   "cell_type": "code",
   "execution_count": null,
   "id": "dfea2cc1",
   "metadata": {},
   "outputs": [],
   "source": []
  }
 ],
 "metadata": {
  "kernelspec": {
   "display_name": "Python 3 (ipykernel)",
   "language": "python",
   "name": "python3"
  },
  "language_info": {
   "codemirror_mode": {
    "name": "ipython",
    "version": 3
   },
   "file_extension": ".py",
   "mimetype": "text/x-python",
   "name": "python",
   "nbconvert_exporter": "python",
   "pygments_lexer": "ipython3",
   "version": "3.9.12"
  }
 },
 "nbformat": 4,
 "nbformat_minor": 5
}
